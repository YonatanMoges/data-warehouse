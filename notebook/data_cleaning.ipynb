{
 "cells": [
  {
   "cell_type": "code",
   "execution_count": 1,
   "metadata": {},
   "outputs": [],
   "source": [
    "import sys\n",
    "sys.path.append('../scripts')  # Add the scripts folder to the system path\n",
    "\n",
    "from data_cleaner import DataCleaner"
   ]
  },
  {
   "cell_type": "code",
   "execution_count": 2,
   "metadata": {},
   "outputs": [],
   "source": [
    "raw_data_path = '../data/raw_data.csv'\n",
    "cleaned_data_path = '../data/cleaned_data.csv'"
   ]
  },
  {
   "cell_type": "code",
   "execution_count": 3,
   "metadata": {},
   "outputs": [
    {
     "name": "stderr",
     "output_type": "stream",
     "text": [
      "../scripts\\data_cleaner.py:34: FutureWarning: A value is trying to be set on a copy of a DataFrame or Series through chained assignment using an inplace method.\n",
      "The behavior will change in pandas 3.0. This inplace method will never work because the intermediate object on which we are setting values always behaves as a copy.\n",
      "\n",
      "For example, when doing 'df[col].method(value, inplace=True)', try using 'df.method({col: value}, inplace=True)' or df[col] = df[col].method(value) instead, to perform the operation inplace on the original object.\n",
      "\n",
      "\n",
      "  data['Message'].fillna('', inplace=True)  # Fill empty messages with an empty string\n"
     ]
    }
   ],
   "source": [
    "# Initialize DataCleaner with the paths\n",
    "cleaner = DataCleaner(raw_data_path=raw_data_path, cleaned_data_path=cleaned_data_path)\n",
    "\n",
    "# Run the cleaning process\n",
    "cleaner.clean_data()"
   ]
  }
 ],
 "metadata": {
  "language_info": {
   "name": "python"
  }
 },
 "nbformat": 4,
 "nbformat_minor": 2
}
