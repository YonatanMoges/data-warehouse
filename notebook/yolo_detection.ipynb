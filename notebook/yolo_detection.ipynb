{
 "cells": [
  {
   "cell_type": "code",
   "execution_count": 1,
   "metadata": {},
   "outputs": [],
   "source": [
    "import pandas as pd\n",
    "# Import Custom Modules\n",
    "import sys\n",
    "sys.path.append('../scripts') \n",
    "# Import the class\n",
    "from yolo_detection import YoloDetectionPipeline"
   ]
  },
  {
   "cell_type": "code",
   "execution_count": 2,
   "metadata": {},
   "outputs": [
    {
     "name": "stderr",
     "output_type": "stream",
     "text": [
      "Using cache found in C:\\Users\\HP/.cache\\torch\\hub\\ultralytics_yolov5_master\n"
     ]
    },
    {
     "name": "stdout",
     "output_type": "stream",
     "text": [
      "WARNING  Python>=3.10 is required, but Python==3.9.1 is currently installed \n"
     ]
    },
    {
     "name": "stderr",
     "output_type": "stream",
     "text": [
      "YOLOv5  2024-10-15 Python-3.9.1 torch-2.4.1+cpu CPU\n",
      "\n",
      "Fusing layers... \n",
      "YOLOv5s summary: 213 layers, 7225885 parameters, 0 gradients, 16.4 GFLOPs\n",
      "Adding AutoShape... \n"
     ]
    }
   ],
   "source": [
    "# Initialize the pipeline\n",
    "pipeline = YoloDetectionPipeline()"
   ]
  },
  {
   "cell_type": "code",
   "execution_count": 3,
   "metadata": {},
   "outputs": [
    {
     "name": "stderr",
     "output_type": "stream",
     "text": [
      "C:\\Users\\HP/.cache\\torch\\hub\\ultralytics_yolov5_master\\models\\common.py:892: FutureWarning: `torch.cuda.amp.autocast(args...)` is deprecated. Please use `torch.amp.autocast('cuda', args...)` instead.\n",
      "  with amp.autocast(autocast):\n",
      "Saved 1 image to \u001b[1m..\\data\\detection_results\\detection_results119\u001b[0m\n",
      "C:\\Users\\HP/.cache\\torch\\hub\\ultralytics_yolov5_master\\models\\common.py:892: FutureWarning: `torch.cuda.amp.autocast(args...)` is deprecated. Please use `torch.amp.autocast('cuda', args...)` instead.\n",
      "  with amp.autocast(autocast):\n"
     ]
    },
    {
     "name": "stdout",
     "output_type": "stream",
     "text": [
      "Processed photo_2023-01-03_17-49-48.jpg with detections:\n",
      "     name  confidence        xmin         ymin        xmax         ymax\n",
      "0  person    0.642818  117.061005   231.402039  571.779541  1260.427246\n",
      "1   mouse    0.334386  565.132324  1199.600586  640.591553  1273.587402\n",
      "Skipping insertion for photo_2023-01-03_17-49-48.jpg as it already exists in the database.\n"
     ]
    },
    {
     "name": "stderr",
     "output_type": "stream",
     "text": [
      "Saved 1 image to \u001b[1m..\\data\\detection_results\\detection_results120\u001b[0m\n",
      "C:\\Users\\HP/.cache\\torch\\hub\\ultralytics_yolov5_master\\models\\common.py:892: FutureWarning: `torch.cuda.amp.autocast(args...)` is deprecated. Please use `torch.amp.autocast('cuda', args...)` instead.\n",
      "  with amp.autocast(autocast):\n"
     ]
    },
    {
     "name": "stdout",
     "output_type": "stream",
     "text": [
      "Processed photo_2023-01-04_05-58-02.jpg with detections:\n",
      "     name  confidence        xmin        ymin        xmax        ymax\n",
      "0  bottle    0.876813  757.923401  348.089935  943.922852  777.668030\n",
      "1  bottle    0.846279   81.945152  278.331604  335.765442  843.713867\n",
      "2  bottle    0.813187  537.084717  305.660095  766.430664  803.282227\n",
      "3  bottle    0.724370  326.038330  318.640472  549.855469  825.639526\n",
      "4  bottle    0.404153  539.142883  327.206879  758.244629  474.325195\n",
      "Skipping insertion for photo_2023-01-04_05-58-02.jpg as it already exists in the database.\n",
      "Skipping insertion for photo_2023-01-04_05-58-02.jpg as it already exists in the database.\n",
      "Skipping insertion for photo_2023-01-04_05-58-02.jpg as it already exists in the database.\n",
      "Skipping insertion for photo_2023-01-04_05-58-02.jpg as it already exists in the database.\n"
     ]
    },
    {
     "name": "stderr",
     "output_type": "stream",
     "text": [
      "Saved 1 image to \u001b[1m..\\data\\detection_results\\detection_results121\u001b[0m\n",
      "C:\\Users\\HP/.cache\\torch\\hub\\ultralytics_yolov5_master\\models\\common.py:892: FutureWarning: `torch.cuda.amp.autocast(args...)` is deprecated. Please use `torch.amp.autocast('cuda', args...)` instead.\n",
      "  with amp.autocast(autocast):\n"
     ]
    },
    {
     "name": "stdout",
     "output_type": "stream",
     "text": [
      "Processed photo_2023-01-06_06-05-01.jpg with detections:\n",
      "     name  confidence        xmin        ymin        xmax         ymax\n",
      "0  person    0.493987  435.715576  753.895752  888.537842  1126.438721\n",
      "1  person    0.453556    0.000000  672.867004  529.124146  1266.897461\n",
      "2  banana    0.284956  124.345276  620.070374  684.988220   836.760437\n",
      "Skipping insertion for photo_2023-01-06_06-05-01.jpg as it already exists in the database.\n",
      "Skipping insertion for photo_2023-01-06_06-05-01.jpg as it already exists in the database.\n"
     ]
    },
    {
     "name": "stderr",
     "output_type": "stream",
     "text": [
      "Saved 1 image to \u001b[1m..\\data\\detection_results\\detection_results122\u001b[0m\n",
      "C:\\Users\\HP/.cache\\torch\\hub\\ultralytics_yolov5_master\\models\\common.py:892: FutureWarning: `torch.cuda.amp.autocast(args...)` is deprecated. Please use `torch.amp.autocast('cuda', args...)` instead.\n",
      "  with amp.autocast(autocast):\n"
     ]
    },
    {
     "name": "stdout",
     "output_type": "stream",
     "text": [
      "Processed photo_2023-01-06_09-31-17.jpg with detections:\n",
      "Empty DataFrame\n",
      "Columns: [name, confidence, xmin, ymin, xmax, ymax]\n",
      "Index: []\n",
      "No detections for photo_2023-01-06_09-31-17.jpg, skipping database insert.\n"
     ]
    },
    {
     "name": "stderr",
     "output_type": "stream",
     "text": [
      "Saved 1 image to \u001b[1m..\\data\\detection_results\\detection_results123\u001b[0m\n",
      "C:\\Users\\HP/.cache\\torch\\hub\\ultralytics_yolov5_master\\models\\common.py:892: FutureWarning: `torch.cuda.amp.autocast(args...)` is deprecated. Please use `torch.amp.autocast('cuda', args...)` instead.\n",
      "  with amp.autocast(autocast):\n"
     ]
    },
    {
     "name": "stdout",
     "output_type": "stream",
     "text": [
      "Processed photo_2023-01-06_16-06-21.jpg with detections:\n",
      "     name  confidence        xmin        ymin        xmax         ymax\n",
      "0  person    0.931793   57.743694  159.574860  541.425049  1010.032288\n",
      "1   chair    0.574029  682.734802  477.382904  718.535583   599.568420\n",
      "2  bottle    0.398462   15.017139   28.399467  143.520676   301.522705\n",
      "Skipping insertion for photo_2023-01-06_16-06-21.jpg as it already exists in the database.\n",
      "Skipping insertion for photo_2023-01-06_16-06-21.jpg as it already exists in the database.\n"
     ]
    },
    {
     "name": "stderr",
     "output_type": "stream",
     "text": [
      "Saved 1 image to \u001b[1m..\\data\\detection_results\\detection_results124\u001b[0m\n",
      "C:\\Users\\HP/.cache\\torch\\hub\\ultralytics_yolov5_master\\models\\common.py:892: FutureWarning: `torch.cuda.amp.autocast(args...)` is deprecated. Please use `torch.amp.autocast('cuda', args...)` instead.\n",
      "  with amp.autocast(autocast):\n"
     ]
    },
    {
     "name": "stdout",
     "output_type": "stream",
     "text": [
      "Processed photo_2023-01-13_09-44-14.jpg with detections:\n",
      "     name  confidence        xmin        ymin         xmax         ymax\n",
      "0  bottle    0.883030   52.782005  632.653870   244.495514  1005.424805\n",
      "1  bottle    0.805417  876.136292  634.039490  1035.726562   999.975769\n",
      "2  bottle    0.732167  235.435837  607.006531   449.435303  1023.957275\n",
      "3  bottle    0.655022  668.461426  605.055237   883.860657  1034.039429\n",
      "4  bottle    0.483795  440.888214  556.652161   677.931580  1028.940186\n",
      "Skipping insertion for photo_2023-01-13_09-44-14.jpg as it already exists in the database.\n",
      "Skipping insertion for photo_2023-01-13_09-44-14.jpg as it already exists in the database.\n",
      "Skipping insertion for photo_2023-01-13_09-44-14.jpg as it already exists in the database.\n",
      "Skipping insertion for photo_2023-01-13_09-44-14.jpg as it already exists in the database.\n"
     ]
    },
    {
     "name": "stderr",
     "output_type": "stream",
     "text": [
      "Saved 1 image to \u001b[1m..\\data\\detection_results\\detection_results125\u001b[0m\n",
      "C:\\Users\\HP/.cache\\torch\\hub\\ultralytics_yolov5_master\\models\\common.py:892: FutureWarning: `torch.cuda.amp.autocast(args...)` is deprecated. Please use `torch.amp.autocast('cuda', args...)` instead.\n",
      "  with amp.autocast(autocast):\n"
     ]
    },
    {
     "name": "stdout",
     "output_type": "stream",
     "text": [
      "Processed photo_2023-01-13_12-48-47.jpg with detections:\n",
      "     name  confidence        xmin        ymin        xmax         ymax\n",
      "0  bottle    0.850647  624.342041  472.778046  772.203064   768.879150\n",
      "1  bottle    0.721185  452.722229  415.359619  631.302673   770.639771\n",
      "2   mouse    0.708950  790.306641  928.572388  891.078552  1036.070435\n",
      "3  bottle    0.681429  297.477844  470.888397  461.179810   768.742676\n",
      "Skipping insertion for photo_2023-01-13_12-48-47.jpg as it already exists in the database.\n",
      "Skipping insertion for photo_2023-01-13_12-48-47.jpg as it already exists in the database.\n",
      "Skipping insertion for photo_2023-01-13_12-48-47.jpg as it already exists in the database.\n"
     ]
    },
    {
     "name": "stderr",
     "output_type": "stream",
     "text": [
      "Saved 1 image to \u001b[1m..\\data\\detection_results\\detection_results126\u001b[0m\n",
      "C:\\Users\\HP/.cache\\torch\\hub\\ultralytics_yolov5_master\\models\\common.py:892: FutureWarning: `torch.cuda.amp.autocast(args...)` is deprecated. Please use `torch.amp.autocast('cuda', args...)` instead.\n",
      "  with amp.autocast(autocast):\n"
     ]
    },
    {
     "name": "stdout",
     "output_type": "stream",
     "text": [
      "Processed photo_2023-01-16_09-26-09.jpg with detections:\n",
      "Empty DataFrame\n",
      "Columns: [name, confidence, xmin, ymin, xmax, ymax]\n",
      "Index: []\n",
      "No detections for photo_2023-01-16_09-26-09.jpg, skipping database insert.\n"
     ]
    },
    {
     "name": "stderr",
     "output_type": "stream",
     "text": [
      "Saved 1 image to \u001b[1m..\\data\\detection_results\\detection_results127\u001b[0m\n",
      "C:\\Users\\HP/.cache\\torch\\hub\\ultralytics_yolov5_master\\models\\common.py:892: FutureWarning: `torch.cuda.amp.autocast(args...)` is deprecated. Please use `torch.amp.autocast('cuda', args...)` instead.\n",
      "  with amp.autocast(autocast):\n"
     ]
    },
    {
     "name": "stdout",
     "output_type": "stream",
     "text": [
      "Processed photo_2023-01-16_10-13-42.jpg with detections:\n",
      "      name  confidence        xmin        ymin        xmax         ymax\n",
      "0   person    0.779730    8.308110  226.292450  615.876099  1058.259399\n",
      "1  frisbee    0.708577  486.446808  402.847595  556.982544   451.421234\n",
      "2  frisbee    0.589798  542.288269  375.238251  626.522156   412.670532\n",
      "Skipping insertion for photo_2023-01-16_10-13-42.jpg as it already exists in the database.\n",
      "Skipping insertion for photo_2023-01-16_10-13-42.jpg as it already exists in the database.\n"
     ]
    },
    {
     "name": "stderr",
     "output_type": "stream",
     "text": [
      "Saved 1 image to \u001b[1m..\\data\\detection_results\\detection_results128\u001b[0m\n",
      "C:\\Users\\HP/.cache\\torch\\hub\\ultralytics_yolov5_master\\models\\common.py:892: FutureWarning: `torch.cuda.amp.autocast(args...)` is deprecated. Please use `torch.amp.autocast('cuda', args...)` instead.\n",
      "  with amp.autocast(autocast):\n"
     ]
    },
    {
     "name": "stdout",
     "output_type": "stream",
     "text": [
      "Processed photo_2023-01-16_13-41-35.jpg with detections:\n",
      "Empty DataFrame\n",
      "Columns: [name, confidence, xmin, ymin, xmax, ymax]\n",
      "Index: []\n",
      "No detections for photo_2023-01-16_13-41-35.jpg, skipping database insert.\n"
     ]
    },
    {
     "name": "stderr",
     "output_type": "stream",
     "text": [
      "Saved 1 image to \u001b[1m..\\data\\detection_results\\detection_results129\u001b[0m\n",
      "C:\\Users\\HP/.cache\\torch\\hub\\ultralytics_yolov5_master\\models\\common.py:892: FutureWarning: `torch.cuda.amp.autocast(args...)` is deprecated. Please use `torch.amp.autocast('cuda', args...)` instead.\n",
      "  with amp.autocast(autocast):\n"
     ]
    },
    {
     "name": "stdout",
     "output_type": "stream",
     "text": [
      "Processed photo_2023-01-17_08-43-12.jpg with detections:\n",
      "Empty DataFrame\n",
      "Columns: [name, confidence, xmin, ymin, xmax, ymax]\n",
      "Index: []\n",
      "No detections for photo_2023-01-17_08-43-12.jpg, skipping database insert.\n"
     ]
    },
    {
     "name": "stderr",
     "output_type": "stream",
     "text": [
      "Saved 1 image to \u001b[1m..\\data\\detection_results\\detection_results130\u001b[0m\n",
      "C:\\Users\\HP/.cache\\torch\\hub\\ultralytics_yolov5_master\\models\\common.py:892: FutureWarning: `torch.cuda.amp.autocast(args...)` is deprecated. Please use `torch.amp.autocast('cuda', args...)` instead.\n",
      "  with amp.autocast(autocast):\n"
     ]
    },
    {
     "name": "stdout",
     "output_type": "stream",
     "text": [
      "Processed photo_2023-01-23_10-39-20.jpg with detections:\n",
      "Empty DataFrame\n",
      "Columns: [name, confidence, xmin, ymin, xmax, ymax]\n",
      "Index: []\n",
      "No detections for photo_2023-01-23_10-39-20.jpg, skipping database insert.\n"
     ]
    },
    {
     "name": "stderr",
     "output_type": "stream",
     "text": [
      "Saved 1 image to \u001b[1m..\\data\\detection_results\\detection_results131\u001b[0m\n",
      "C:\\Users\\HP/.cache\\torch\\hub\\ultralytics_yolov5_master\\models\\common.py:892: FutureWarning: `torch.cuda.amp.autocast(args...)` is deprecated. Please use `torch.amp.autocast('cuda', args...)` instead.\n",
      "  with amp.autocast(autocast):\n"
     ]
    },
    {
     "name": "stdout",
     "output_type": "stream",
     "text": [
      "Processed photo_2023-01-26_18-27-53.jpg with detections:\n",
      "Empty DataFrame\n",
      "Columns: [name, confidence, xmin, ymin, xmax, ymax]\n",
      "Index: []\n",
      "No detections for photo_2023-01-26_18-27-53.jpg, skipping database insert.\n"
     ]
    },
    {
     "name": "stderr",
     "output_type": "stream",
     "text": [
      "Saved 1 image to \u001b[1m..\\data\\detection_results\\detection_results132\u001b[0m\n",
      "C:\\Users\\HP/.cache\\torch\\hub\\ultralytics_yolov5_master\\models\\common.py:892: FutureWarning: `torch.cuda.amp.autocast(args...)` is deprecated. Please use `torch.amp.autocast('cuda', args...)` instead.\n",
      "  with amp.autocast(autocast):\n"
     ]
    },
    {
     "name": "stdout",
     "output_type": "stream",
     "text": [
      "Processed photo_2023-01-27_07-18-40.jpg with detections:\n",
      "     name  confidence        xmin        ymin    xmax        ymax\n",
      "0  person    0.485531  213.323685  627.671143  1080.0  816.667358\n"
     ]
    },
    {
     "name": "stderr",
     "output_type": "stream",
     "text": [
      "Saved 1 image to \u001b[1m..\\data\\detection_results\\detection_results133\u001b[0m\n",
      "C:\\Users\\HP/.cache\\torch\\hub\\ultralytics_yolov5_master\\models\\common.py:892: FutureWarning: `torch.cuda.amp.autocast(args...)` is deprecated. Please use `torch.amp.autocast('cuda', args...)` instead.\n",
      "  with amp.autocast(autocast):\n"
     ]
    },
    {
     "name": "stdout",
     "output_type": "stream",
     "text": [
      "Processed photo_2023-01-30_09-45-25.jpg with detections:\n",
      "     name  confidence       xmin        ymin        xmax         ymax\n",
      "0  person    0.901873  10.941327  269.161499  605.887146  1074.934937\n"
     ]
    },
    {
     "name": "stderr",
     "output_type": "stream",
     "text": [
      "Saved 1 image to \u001b[1m..\\data\\detection_results\\detection_results134\u001b[0m\n",
      "C:\\Users\\HP/.cache\\torch\\hub\\ultralytics_yolov5_master\\models\\common.py:892: FutureWarning: `torch.cuda.amp.autocast(args...)` is deprecated. Please use `torch.amp.autocast('cuda', args...)` instead.\n",
      "  with amp.autocast(autocast):\n"
     ]
    },
    {
     "name": "stdout",
     "output_type": "stream",
     "text": [
      "Processed photo_2023-01-31_09-19-53.jpg with detections:\n",
      "       name  confidence        xmin        ymin         xmax        ymax\n",
      "0    person    0.825859    3.580633  628.582947   384.760559  858.655823\n",
      "1      vase    0.625056  863.911560  550.352905  1017.108765  830.961487\n",
      "2      vase    0.324283  703.359680  549.509033   855.550720  827.657532\n",
      "3       cup    0.303570  705.120850  549.043030   855.619080  829.848083\n",
      "4  sandwich    0.296159  513.746582  590.963196   727.928894  855.626404\n",
      "Skipping insertion for photo_2023-01-31_09-19-53.jpg as it already exists in the database.\n",
      "Skipping insertion for photo_2023-01-31_09-19-53.jpg as it already exists in the database.\n",
      "Skipping insertion for photo_2023-01-31_09-19-53.jpg as it already exists in the database.\n",
      "Skipping insertion for photo_2023-01-31_09-19-53.jpg as it already exists in the database.\n"
     ]
    },
    {
     "name": "stderr",
     "output_type": "stream",
     "text": [
      "Saved 1 image to \u001b[1m..\\data\\detection_results\\detection_results135\u001b[0m\n",
      "C:\\Users\\HP/.cache\\torch\\hub\\ultralytics_yolov5_master\\models\\common.py:892: FutureWarning: `torch.cuda.amp.autocast(args...)` is deprecated. Please use `torch.amp.autocast('cuda', args...)` instead.\n",
      "  with amp.autocast(autocast):\n"
     ]
    },
    {
     "name": "stdout",
     "output_type": "stream",
     "text": [
      "Processed photo_2023-02-01_08-59-37.jpg with detections:\n",
      "          name  confidence        xmin        ymin        xmax         ymax\n",
      "0       person    0.679589   14.011173  248.227219  759.978149  1074.444092\n",
      "1  sports ball    0.340786  980.610229  281.514038  996.515991   295.527161\n",
      "Skipping insertion for photo_2023-02-01_08-59-37.jpg as it already exists in the database.\n"
     ]
    },
    {
     "name": "stderr",
     "output_type": "stream",
     "text": [
      "Saved 1 image to \u001b[1m..\\data\\detection_results\\detection_results136\u001b[0m\n",
      "C:\\Users\\HP/.cache\\torch\\hub\\ultralytics_yolov5_master\\models\\common.py:892: FutureWarning: `torch.cuda.amp.autocast(args...)` is deprecated. Please use `torch.amp.autocast('cuda', args...)` instead.\n",
      "  with amp.autocast(autocast):\n"
     ]
    },
    {
     "name": "stdout",
     "output_type": "stream",
     "text": [
      "Processed photo_2023-02-02_08-58-52.jpg with detections:\n",
      "          name  confidence        xmin        ymin        xmax        ymax\n",
      "0  sports ball    0.444292  493.251282  653.647766  593.686462  753.449036\n",
      "1  sports ball    0.286900  744.791748  617.177673  817.133850  690.650757\n",
      "Skipping insertion for photo_2023-02-02_08-58-52.jpg as it already exists in the database.\n"
     ]
    },
    {
     "name": "stderr",
     "output_type": "stream",
     "text": [
      "Saved 1 image to \u001b[1m..\\data\\detection_results\\detection_results137\u001b[0m\n",
      "C:\\Users\\HP/.cache\\torch\\hub\\ultralytics_yolov5_master\\models\\common.py:892: FutureWarning: `torch.cuda.amp.autocast(args...)` is deprecated. Please use `torch.amp.autocast('cuda', args...)` instead.\n",
      "  with amp.autocast(autocast):\n"
     ]
    },
    {
     "name": "stdout",
     "output_type": "stream",
     "text": [
      "Processed photo_2023-02-10_12-23-06.jpg with detections:\n",
      "Empty DataFrame\n",
      "Columns: [name, confidence, xmin, ymin, xmax, ymax]\n",
      "Index: []\n",
      "No detections for photo_2023-02-10_12-23-06.jpg, skipping database insert.\n"
     ]
    },
    {
     "name": "stderr",
     "output_type": "stream",
     "text": [
      "Saved 1 image to \u001b[1m..\\data\\detection_results\\detection_results138\u001b[0m\n",
      "C:\\Users\\HP/.cache\\torch\\hub\\ultralytics_yolov5_master\\models\\common.py:892: FutureWarning: `torch.cuda.amp.autocast(args...)` is deprecated. Please use `torch.amp.autocast('cuda', args...)` instead.\n",
      "  with amp.autocast(autocast):\n"
     ]
    },
    {
     "name": "stdout",
     "output_type": "stream",
     "text": [
      "Processed photo_2024-10-10_14-47-05 (1).jpg with detections:\n",
      "Empty DataFrame\n",
      "Columns: [name, confidence, xmin, ymin, xmax, ymax]\n",
      "Index: []\n",
      "No detections for photo_2024-10-10_14-47-05 (1).jpg, skipping database insert.\n"
     ]
    },
    {
     "name": "stderr",
     "output_type": "stream",
     "text": [
      "Saved 1 image to \u001b[1m..\\data\\detection_results\\detection_results139\u001b[0m\n",
      "C:\\Users\\HP/.cache\\torch\\hub\\ultralytics_yolov5_master\\models\\common.py:892: FutureWarning: `torch.cuda.amp.autocast(args...)` is deprecated. Please use `torch.amp.autocast('cuda', args...)` instead.\n",
      "  with amp.autocast(autocast):\n"
     ]
    },
    {
     "name": "stdout",
     "output_type": "stream",
     "text": [
      "Processed photo_2024-10-10_14-47-05 (2).jpg with detections:\n",
      "Empty DataFrame\n",
      "Columns: [name, confidence, xmin, ymin, xmax, ymax]\n",
      "Index: []\n",
      "No detections for photo_2024-10-10_14-47-05 (2).jpg, skipping database insert.\n"
     ]
    },
    {
     "name": "stderr",
     "output_type": "stream",
     "text": [
      "Saved 1 image to \u001b[1m..\\data\\detection_results\\detection_results140\u001b[0m\n",
      "C:\\Users\\HP/.cache\\torch\\hub\\ultralytics_yolov5_master\\models\\common.py:892: FutureWarning: `torch.cuda.amp.autocast(args...)` is deprecated. Please use `torch.amp.autocast('cuda', args...)` instead.\n",
      "  with amp.autocast(autocast):\n"
     ]
    },
    {
     "name": "stdout",
     "output_type": "stream",
     "text": [
      "Processed photo_2024-10-10_14-47-05 (3).jpg with detections:\n",
      "Empty DataFrame\n",
      "Columns: [name, confidence, xmin, ymin, xmax, ymax]\n",
      "Index: []\n",
      "No detections for photo_2024-10-10_14-47-05 (3).jpg, skipping database insert.\n"
     ]
    },
    {
     "name": "stderr",
     "output_type": "stream",
     "text": [
      "Saved 1 image to \u001b[1m..\\data\\detection_results\\detection_results141\u001b[0m\n",
      "C:\\Users\\HP/.cache\\torch\\hub\\ultralytics_yolov5_master\\models\\common.py:892: FutureWarning: `torch.cuda.amp.autocast(args...)` is deprecated. Please use `torch.amp.autocast('cuda', args...)` instead.\n",
      "  with amp.autocast(autocast):\n"
     ]
    },
    {
     "name": "stdout",
     "output_type": "stream",
     "text": [
      "Processed photo_2024-10-10_14-47-05 (4).jpg with detections:\n",
      "Empty DataFrame\n",
      "Columns: [name, confidence, xmin, ymin, xmax, ymax]\n",
      "Index: []\n",
      "No detections for photo_2024-10-10_14-47-05 (4).jpg, skipping database insert.\n"
     ]
    },
    {
     "name": "stderr",
     "output_type": "stream",
     "text": [
      "Saved 1 image to \u001b[1m..\\data\\detection_results\\detection_results142\u001b[0m\n",
      "C:\\Users\\HP/.cache\\torch\\hub\\ultralytics_yolov5_master\\models\\common.py:892: FutureWarning: `torch.cuda.amp.autocast(args...)` is deprecated. Please use `torch.amp.autocast('cuda', args...)` instead.\n",
      "  with amp.autocast(autocast):\n"
     ]
    },
    {
     "name": "stdout",
     "output_type": "stream",
     "text": [
      "Processed photo_2024-10-10_14-47-05 (5).jpg with detections:\n",
      "Empty DataFrame\n",
      "Columns: [name, confidence, xmin, ymin, xmax, ymax]\n",
      "Index: []\n",
      "No detections for photo_2024-10-10_14-47-05 (5).jpg, skipping database insert.\n"
     ]
    },
    {
     "name": "stderr",
     "output_type": "stream",
     "text": [
      "Saved 1 image to \u001b[1m..\\data\\detection_results\\detection_results143\u001b[0m\n",
      "C:\\Users\\HP/.cache\\torch\\hub\\ultralytics_yolov5_master\\models\\common.py:892: FutureWarning: `torch.cuda.amp.autocast(args...)` is deprecated. Please use `torch.amp.autocast('cuda', args...)` instead.\n",
      "  with amp.autocast(autocast):\n"
     ]
    },
    {
     "name": "stdout",
     "output_type": "stream",
     "text": [
      "Processed photo_2024-10-10_14-47-05 (6).jpg with detections:\n",
      "Empty DataFrame\n",
      "Columns: [name, confidence, xmin, ymin, xmax, ymax]\n",
      "Index: []\n",
      "No detections for photo_2024-10-10_14-47-05 (6).jpg, skipping database insert.\n"
     ]
    },
    {
     "name": "stderr",
     "output_type": "stream",
     "text": [
      "Saved 1 image to \u001b[1m..\\data\\detection_results\\detection_results144\u001b[0m\n",
      "C:\\Users\\HP/.cache\\torch\\hub\\ultralytics_yolov5_master\\models\\common.py:892: FutureWarning: `torch.cuda.amp.autocast(args...)` is deprecated. Please use `torch.amp.autocast('cuda', args...)` instead.\n",
      "  with amp.autocast(autocast):\n"
     ]
    },
    {
     "name": "stdout",
     "output_type": "stream",
     "text": [
      "Processed photo_2024-10-10_14-47-05 (7).jpg with detections:\n",
      "Empty DataFrame\n",
      "Columns: [name, confidence, xmin, ymin, xmax, ymax]\n",
      "Index: []\n",
      "No detections for photo_2024-10-10_14-47-05 (7).jpg, skipping database insert.\n"
     ]
    },
    {
     "name": "stderr",
     "output_type": "stream",
     "text": [
      "Saved 1 image to \u001b[1m..\\data\\detection_results\\detection_results145\u001b[0m\n",
      "C:\\Users\\HP/.cache\\torch\\hub\\ultralytics_yolov5_master\\models\\common.py:892: FutureWarning: `torch.cuda.amp.autocast(args...)` is deprecated. Please use `torch.amp.autocast('cuda', args...)` instead.\n",
      "  with amp.autocast(autocast):\n"
     ]
    },
    {
     "name": "stdout",
     "output_type": "stream",
     "text": [
      "Processed photo_2024-10-10_14-47-05.jpg with detections:\n",
      "Empty DataFrame\n",
      "Columns: [name, confidence, xmin, ymin, xmax, ymax]\n",
      "Index: []\n",
      "No detections for photo_2024-10-10_14-47-05.jpg, skipping database insert.\n"
     ]
    },
    {
     "name": "stderr",
     "output_type": "stream",
     "text": [
      "Saved 1 image to \u001b[1m..\\data\\detection_results\\detection_results146\u001b[0m\n",
      "C:\\Users\\HP/.cache\\torch\\hub\\ultralytics_yolov5_master\\models\\common.py:892: FutureWarning: `torch.cuda.amp.autocast(args...)` is deprecated. Please use `torch.amp.autocast('cuda', args...)` instead.\n",
      "  with amp.autocast(autocast):\n"
     ]
    },
    {
     "name": "stdout",
     "output_type": "stream",
     "text": [
      "Processed photo_2024-10-11_10-11-56 (1).jpg with detections:\n",
      "Empty DataFrame\n",
      "Columns: [name, confidence, xmin, ymin, xmax, ymax]\n",
      "Index: []\n",
      "No detections for photo_2024-10-11_10-11-56 (1).jpg, skipping database insert.\n"
     ]
    },
    {
     "name": "stderr",
     "output_type": "stream",
     "text": [
      "Saved 1 image to \u001b[1m..\\data\\detection_results\\detection_results147\u001b[0m\n",
      "C:\\Users\\HP/.cache\\torch\\hub\\ultralytics_yolov5_master\\models\\common.py:892: FutureWarning: `torch.cuda.amp.autocast(args...)` is deprecated. Please use `torch.amp.autocast('cuda', args...)` instead.\n",
      "  with amp.autocast(autocast):\n"
     ]
    },
    {
     "name": "stdout",
     "output_type": "stream",
     "text": [
      "Processed photo_2024-10-11_10-11-56 (2).jpg with detections:\n",
      "Empty DataFrame\n",
      "Columns: [name, confidence, xmin, ymin, xmax, ymax]\n",
      "Index: []\n",
      "No detections for photo_2024-10-11_10-11-56 (2).jpg, skipping database insert.\n"
     ]
    },
    {
     "name": "stderr",
     "output_type": "stream",
     "text": [
      "Saved 1 image to \u001b[1m..\\data\\detection_results\\detection_results148\u001b[0m\n",
      "C:\\Users\\HP/.cache\\torch\\hub\\ultralytics_yolov5_master\\models\\common.py:892: FutureWarning: `torch.cuda.amp.autocast(args...)` is deprecated. Please use `torch.amp.autocast('cuda', args...)` instead.\n",
      "  with amp.autocast(autocast):\n"
     ]
    },
    {
     "name": "stdout",
     "output_type": "stream",
     "text": [
      "Processed photo_2024-10-11_10-11-56 (3).jpg with detections:\n",
      "Empty DataFrame\n",
      "Columns: [name, confidence, xmin, ymin, xmax, ymax]\n",
      "Index: []\n",
      "No detections for photo_2024-10-11_10-11-56 (3).jpg, skipping database insert.\n"
     ]
    },
    {
     "name": "stderr",
     "output_type": "stream",
     "text": [
      "Saved 1 image to \u001b[1m..\\data\\detection_results\\detection_results149\u001b[0m\n",
      "C:\\Users\\HP/.cache\\torch\\hub\\ultralytics_yolov5_master\\models\\common.py:892: FutureWarning: `torch.cuda.amp.autocast(args...)` is deprecated. Please use `torch.amp.autocast('cuda', args...)` instead.\n",
      "  with amp.autocast(autocast):\n"
     ]
    },
    {
     "name": "stdout",
     "output_type": "stream",
     "text": [
      "Processed photo_2024-10-11_10-11-56 (4).jpg with detections:\n",
      "     name  confidence        xmin        ymin        xmax        ymax\n",
      "0  person    0.542076  316.487823  259.227661  515.913269  582.338074\n"
     ]
    },
    {
     "name": "stderr",
     "output_type": "stream",
     "text": [
      "Saved 1 image to \u001b[1m..\\data\\detection_results\\detection_results150\u001b[0m\n",
      "C:\\Users\\HP/.cache\\torch\\hub\\ultralytics_yolov5_master\\models\\common.py:892: FutureWarning: `torch.cuda.amp.autocast(args...)` is deprecated. Please use `torch.amp.autocast('cuda', args...)` instead.\n",
      "  with amp.autocast(autocast):\n"
     ]
    },
    {
     "name": "stdout",
     "output_type": "stream",
     "text": [
      "Processed photo_2024-10-11_10-11-56 (5).jpg with detections:\n",
      "Empty DataFrame\n",
      "Columns: [name, confidence, xmin, ymin, xmax, ymax]\n",
      "Index: []\n",
      "No detections for photo_2024-10-11_10-11-56 (5).jpg, skipping database insert.\n"
     ]
    },
    {
     "name": "stderr",
     "output_type": "stream",
     "text": [
      "Saved 1 image to \u001b[1m..\\data\\detection_results\\detection_results151\u001b[0m\n",
      "C:\\Users\\HP/.cache\\torch\\hub\\ultralytics_yolov5_master\\models\\common.py:892: FutureWarning: `torch.cuda.amp.autocast(args...)` is deprecated. Please use `torch.amp.autocast('cuda', args...)` instead.\n",
      "  with amp.autocast(autocast):\n"
     ]
    },
    {
     "name": "stdout",
     "output_type": "stream",
     "text": [
      "Processed photo_2024-10-11_10-11-56 (6).jpg with detections:\n",
      "Empty DataFrame\n",
      "Columns: [name, confidence, xmin, ymin, xmax, ymax]\n",
      "Index: []\n",
      "No detections for photo_2024-10-11_10-11-56 (6).jpg, skipping database insert.\n"
     ]
    },
    {
     "name": "stderr",
     "output_type": "stream",
     "text": [
      "Saved 1 image to \u001b[1m..\\data\\detection_results\\detection_results152\u001b[0m\n",
      "C:\\Users\\HP/.cache\\torch\\hub\\ultralytics_yolov5_master\\models\\common.py:892: FutureWarning: `torch.cuda.amp.autocast(args...)` is deprecated. Please use `torch.amp.autocast('cuda', args...)` instead.\n",
      "  with amp.autocast(autocast):\n"
     ]
    },
    {
     "name": "stdout",
     "output_type": "stream",
     "text": [
      "Processed photo_2024-10-11_10-11-56 (7).jpg with detections:\n",
      "Empty DataFrame\n",
      "Columns: [name, confidence, xmin, ymin, xmax, ymax]\n",
      "Index: []\n",
      "No detections for photo_2024-10-11_10-11-56 (7).jpg, skipping database insert.\n"
     ]
    },
    {
     "name": "stderr",
     "output_type": "stream",
     "text": [
      "Saved 1 image to \u001b[1m..\\data\\detection_results\\detection_results153\u001b[0m\n",
      "C:\\Users\\HP/.cache\\torch\\hub\\ultralytics_yolov5_master\\models\\common.py:892: FutureWarning: `torch.cuda.amp.autocast(args...)` is deprecated. Please use `torch.amp.autocast('cuda', args...)` instead.\n",
      "  with amp.autocast(autocast):\n"
     ]
    },
    {
     "name": "stdout",
     "output_type": "stream",
     "text": [
      "Processed photo_2024-10-11_10-11-56.jpg with detections:\n",
      "Empty DataFrame\n",
      "Columns: [name, confidence, xmin, ymin, xmax, ymax]\n",
      "Index: []\n",
      "No detections for photo_2024-10-11_10-11-56.jpg, skipping database insert.\n"
     ]
    },
    {
     "name": "stderr",
     "output_type": "stream",
     "text": [
      "Saved 1 image to \u001b[1m..\\data\\detection_results\\detection_results154\u001b[0m\n",
      "C:\\Users\\HP/.cache\\torch\\hub\\ultralytics_yolov5_master\\models\\common.py:892: FutureWarning: `torch.cuda.amp.autocast(args...)` is deprecated. Please use `torch.amp.autocast('cuda', args...)` instead.\n",
      "  with amp.autocast(autocast):\n"
     ]
    },
    {
     "name": "stdout",
     "output_type": "stream",
     "text": [
      "Processed photo_2024-10-11_10-11-57 (1).jpg with detections:\n",
      "Empty DataFrame\n",
      "Columns: [name, confidence, xmin, ymin, xmax, ymax]\n",
      "Index: []\n",
      "No detections for photo_2024-10-11_10-11-57 (1).jpg, skipping database insert.\n"
     ]
    },
    {
     "name": "stderr",
     "output_type": "stream",
     "text": [
      "Saved 1 image to \u001b[1m..\\data\\detection_results\\detection_results155\u001b[0m\n",
      "C:\\Users\\HP/.cache\\torch\\hub\\ultralytics_yolov5_master\\models\\common.py:892: FutureWarning: `torch.cuda.amp.autocast(args...)` is deprecated. Please use `torch.amp.autocast('cuda', args...)` instead.\n",
      "  with amp.autocast(autocast):\n"
     ]
    },
    {
     "name": "stdout",
     "output_type": "stream",
     "text": [
      "Processed photo_2024-10-11_10-11-57 (2).jpg with detections:\n",
      "Empty DataFrame\n",
      "Columns: [name, confidence, xmin, ymin, xmax, ymax]\n",
      "Index: []\n",
      "No detections for photo_2024-10-11_10-11-57 (2).jpg, skipping database insert.\n"
     ]
    },
    {
     "name": "stderr",
     "output_type": "stream",
     "text": [
      "Saved 1 image to \u001b[1m..\\data\\detection_results\\detection_results156\u001b[0m\n",
      "C:\\Users\\HP/.cache\\torch\\hub\\ultralytics_yolov5_master\\models\\common.py:892: FutureWarning: `torch.cuda.amp.autocast(args...)` is deprecated. Please use `torch.amp.autocast('cuda', args...)` instead.\n",
      "  with amp.autocast(autocast):\n"
     ]
    },
    {
     "name": "stdout",
     "output_type": "stream",
     "text": [
      "Processed photo_2024-10-11_10-11-57 (3).jpg with detections:\n",
      "Empty DataFrame\n",
      "Columns: [name, confidence, xmin, ymin, xmax, ymax]\n",
      "Index: []\n",
      "No detections for photo_2024-10-11_10-11-57 (3).jpg, skipping database insert.\n"
     ]
    },
    {
     "name": "stderr",
     "output_type": "stream",
     "text": [
      "Saved 1 image to \u001b[1m..\\data\\detection_results\\detection_results157\u001b[0m\n"
     ]
    },
    {
     "name": "stdout",
     "output_type": "stream",
     "text": [
      "Processed photo_2024-10-11_10-11-57.jpg with detections:\n",
      "Empty DataFrame\n",
      "Columns: [name, confidence, xmin, ymin, xmax, ymax]\n",
      "Index: []\n",
      "No detections for photo_2024-10-11_10-11-57.jpg, skipping database insert.\n"
     ]
    }
   ],
   "source": [
    "# Process images\n",
    "pipeline.process_images()"
   ]
  }
 ],
 "metadata": {
  "language_info": {
   "name": "python"
  }
 },
 "nbformat": 4,
 "nbformat_minor": 2
}
